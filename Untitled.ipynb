{
 "cells": [
  {
   "cell_type": "markdown",
   "id": "64d8f7d5-9b41-4c03-8c75-8bbea754cd3e",
   "metadata": {},
   "source": [
    "# prime number finder"
   ]
  },
  {
   "cell_type": "code",
   "execution_count": 5,
   "id": "7ba261fe-61e3-4cad-8606-d88a3c404396",
   "metadata": {},
   "outputs": [
    {
     "name": "stdout",
     "output_type": "stream",
     "text": [
      "prime\n",
      "None\n"
     ]
    }
   ],
   "source": [
    "def isprime(num):\n",
    "    if(num%2==0):\n",
    "        print(\"not prime\")\n",
    "    else:\n",
    "        print(\"prime\")\n",
    "\n",
    "print(isprime(23))"
   ]
  },
  {
   "cell_type": "code",
   "execution_count": 8,
   "id": "fbb677e6-d0be-42af-9767-a7a91e672ca1",
   "metadata": {},
   "outputs": [],
   "source": [
    "def si(p,r,t):\n",
    "    return (p*r*t)/100\n",
    "s=si(100,12,2)"
   ]
  },
  {
   "cell_type": "code",
   "execution_count": 9,
   "id": "4ef56cfc-edf1-4472-af3c-eb0d042e6ca5",
   "metadata": {},
   "outputs": [
    {
     "data": {
      "text/plain": [
       "24.0"
      ]
     },
     "execution_count": 9,
     "metadata": {},
     "output_type": "execute_result"
    }
   ],
   "source": [
    "s"
   ]
  },
  {
   "cell_type": "code",
   "execution_count": 18,
   "id": "79b058b1-9ca3-4556-b765-8c6292834c20",
   "metadata": {},
   "outputs": [
    {
     "data": {
      "text/plain": [
       "4"
      ]
     },
     "execution_count": 18,
     "metadata": {},
     "output_type": "execute_result"
    }
   ],
   "source": [
    "def sumofdigit(num):\n",
    "    s=str(num)\n",
    "    ans=0\n",
    "    for i in s:\n",
    "        ans=ans + int(i)\n",
    "    return ans\n",
    "\n",
    "s=sumofdigit(22)\n",
    "\n",
    "s\n",
    "\n"
   ]
  },
  {
   "cell_type": "code",
   "execution_count": null,
   "id": "e5ca157a-867a-454c-95bd-54d94dcb9304",
   "metadata": {},
   "outputs": [],
   "source": []
  },
  {
   "cell_type": "code",
   "execution_count": 37,
   "id": "ee335280-9c61-4139-96ac-d09fe6569334",
   "metadata": {},
   "outputs": [
    {
     "name": "stdout",
     "output_type": "stream",
     "text": [
      "0\n"
     ]
    }
   ],
   "source": [
    "def  is_palindrome(num):\n",
    "    s=str(num)\n",
    "          # use \n",
    "    if s[::-1]==str(num):\n",
    "        return 1\n",
    "    else:\n",
    "        return 0\n",
    "\n",
    "e=ispalindrome(110)\n",
    "print(e)"
   ]
  },
  {
   "cell_type": "code",
   "execution_count": null,
   "id": "21b8b02d-da63-4dee-8213-bbbdd700329e",
   "metadata": {},
   "outputs": [],
   "source": []
  },
  {
   "cell_type": "code",
   "execution_count": null,
   "id": "ca2207a8-cf42-40c5-acfd-5b5e5be51d98",
   "metadata": {},
   "outputs": [],
   "source": []
  }
 ],
 "metadata": {
  "kernelspec": {
   "display_name": "Python 3 (ipykernel)",
   "language": "python",
   "name": "python3"
  },
  "language_info": {
   "codemirror_mode": {
    "name": "ipython",
    "version": 3
   },
   "file_extension": ".py",
   "mimetype": "text/x-python",
   "name": "python",
   "nbconvert_exporter": "python",
   "pygments_lexer": "ipython3",
   "version": "3.12.0"
  },
  "widgets": {
   "application/vnd.jupyter.widget-state+json": {
    "state": {},
    "version_major": 2,
    "version_minor": 0
   }
  }
 },
 "nbformat": 4,
 "nbformat_minor": 5
}
